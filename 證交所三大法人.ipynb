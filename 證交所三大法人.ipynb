{
 "cells": [
  {
   "cell_type": "code",
   "execution_count": 2,
   "metadata": {},
   "outputs": [],
   "source": [
    "import requests\n",
    "from bs4 import BeautifulSoup\n",
    "import json\n",
    "import pandas as pd"
   ]
  },
  {
   "cell_type": "code",
   "execution_count": 3,
   "metadata": {},
   "outputs": [],
   "source": [
    "url='https://www.twse.com.tw/fund/BFI82U?response=json&dayDate=&weekDate=&monthDate=&type=day&_=1606380411179'\n",
    "res=requests.get(url)"
   ]
  },
  {
   "cell_type": "code",
   "execution_count": 4,
   "metadata": {},
   "outputs": [],
   "source": [
    "data=json.loads(res.text)"
   ]
  },
  {
   "cell_type": "code",
   "execution_count": 5,
   "metadata": {},
   "outputs": [
    {
     "data": {
      "text/plain": [
       "['單位名稱', '買進金額', '賣出金額', '買賣差額']"
      ]
     },
     "execution_count": 5,
     "metadata": {},
     "output_type": "execute_result"
    }
   ],
   "source": [
    "data['fields']"
   ]
  },
  {
   "cell_type": "code",
   "execution_count": 6,
   "metadata": {},
   "outputs": [
    {
     "data": {
      "text/plain": [
       "[['自營商(自行買賣)', '2,532,954,797', '2,475,614,127', '57,340,670'],\n",
       " ['自營商(避險)', '5,363,754,638', '4,309,425,079', '1,054,329,559'],\n",
       " ['投信', '2,694,082,270', '2,100,521,961', '593,560,309'],\n",
       " ['外資及陸資(不含外資自營商)', '58,209,528,448', '61,427,112,599', '-3,217,584,151'],\n",
       " ['外資自營商', '13,732,840', '15,477,670', '-1,744,830'],\n",
       " ['合計', '68,800,320,153', '70,312,673,766', '-1,512,353,613']]"
      ]
     },
     "execution_count": 6,
     "metadata": {},
     "output_type": "execute_result"
    }
   ],
   "source": [
    "data['data']"
   ]
  },
  {
   "cell_type": "code",
   "execution_count": 7,
   "metadata": {},
   "outputs": [],
   "source": [
    "df=pd.DataFrame(data['data'])"
   ]
  },
  {
   "cell_type": "code",
   "execution_count": 8,
   "metadata": {},
   "outputs": [],
   "source": [
    "df.columns=data['fields']"
   ]
  },
  {
   "cell_type": "code",
   "execution_count": 9,
   "metadata": {},
   "outputs": [
    {
     "data": {
      "text/html": [
       "<div>\n",
       "<style scoped>\n",
       "    .dataframe tbody tr th:only-of-type {\n",
       "        vertical-align: middle;\n",
       "    }\n",
       "\n",
       "    .dataframe tbody tr th {\n",
       "        vertical-align: top;\n",
       "    }\n",
       "\n",
       "    .dataframe thead th {\n",
       "        text-align: right;\n",
       "    }\n",
       "</style>\n",
       "<table border=\"1\" class=\"dataframe\">\n",
       "  <thead>\n",
       "    <tr style=\"text-align: right;\">\n",
       "      <th></th>\n",
       "      <th>單位名稱</th>\n",
       "      <th>買進金額</th>\n",
       "      <th>賣出金額</th>\n",
       "      <th>買賣差額</th>\n",
       "    </tr>\n",
       "  </thead>\n",
       "  <tbody>\n",
       "    <tr>\n",
       "      <th>0</th>\n",
       "      <td>自營商(自行買賣)</td>\n",
       "      <td>2,532,954,797</td>\n",
       "      <td>2,475,614,127</td>\n",
       "      <td>57,340,670</td>\n",
       "    </tr>\n",
       "    <tr>\n",
       "      <th>1</th>\n",
       "      <td>自營商(避險)</td>\n",
       "      <td>5,363,754,638</td>\n",
       "      <td>4,309,425,079</td>\n",
       "      <td>1,054,329,559</td>\n",
       "    </tr>\n",
       "    <tr>\n",
       "      <th>2</th>\n",
       "      <td>投信</td>\n",
       "      <td>2,694,082,270</td>\n",
       "      <td>2,100,521,961</td>\n",
       "      <td>593,560,309</td>\n",
       "    </tr>\n",
       "    <tr>\n",
       "      <th>3</th>\n",
       "      <td>外資及陸資(不含外資自營商)</td>\n",
       "      <td>58,209,528,448</td>\n",
       "      <td>61,427,112,599</td>\n",
       "      <td>-3,217,584,151</td>\n",
       "    </tr>\n",
       "    <tr>\n",
       "      <th>4</th>\n",
       "      <td>外資自營商</td>\n",
       "      <td>13,732,840</td>\n",
       "      <td>15,477,670</td>\n",
       "      <td>-1,744,830</td>\n",
       "    </tr>\n",
       "    <tr>\n",
       "      <th>5</th>\n",
       "      <td>合計</td>\n",
       "      <td>68,800,320,153</td>\n",
       "      <td>70,312,673,766</td>\n",
       "      <td>-1,512,353,613</td>\n",
       "    </tr>\n",
       "  </tbody>\n",
       "</table>\n",
       "</div>"
      ],
      "text/plain": [
       "             單位名稱            買進金額            賣出金額            買賣差額\n",
       "0       自營商(自行買賣)   2,532,954,797   2,475,614,127      57,340,670\n",
       "1         自營商(避險)   5,363,754,638   4,309,425,079   1,054,329,559\n",
       "2              投信   2,694,082,270   2,100,521,961     593,560,309\n",
       "3  外資及陸資(不含外資自營商)  58,209,528,448  61,427,112,599  -3,217,584,151\n",
       "4           外資自營商      13,732,840      15,477,670      -1,744,830\n",
       "5              合計  68,800,320,153  70,312,673,766  -1,512,353,613"
      ]
     },
     "execution_count": 9,
     "metadata": {},
     "output_type": "execute_result"
    }
   ],
   "source": [
    "df"
   ]
  },
  {
   "cell_type": "code",
   "execution_count": null,
   "metadata": {},
   "outputs": [],
   "source": []
  }
 ],
 "metadata": {
  "kernelspec": {
   "display_name": "Python 3",
   "language": "python",
   "name": "python3"
  },
  "language_info": {
   "codemirror_mode": {
    "name": "ipython",
    "version": 3
   },
   "file_extension": ".py",
   "mimetype": "text/x-python",
   "name": "python",
   "nbconvert_exporter": "python",
   "pygments_lexer": "ipython3",
   "version": "3.8.3"
  }
 },
 "nbformat": 4,
 "nbformat_minor": 4
}
