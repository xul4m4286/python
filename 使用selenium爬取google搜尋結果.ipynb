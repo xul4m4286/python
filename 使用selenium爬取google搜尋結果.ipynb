{
 "cells": [
  {
   "cell_type": "code",
   "execution_count": 52,
   "metadata": {},
   "outputs": [],
   "source": [
    "from selenium import webdriver\n",
    "driver=webdriver.Chrome('D:\\chromedriver_win32\\chromedriver.exe')\n",
    "driver.get('https://www.google.com')"
   ]
  },
  {
   "cell_type": "code",
   "execution_count": 53,
   "metadata": {},
   "outputs": [],
   "source": [
    "q = driver.find_element_by_name('q')"
   ]
  },
  {
   "cell_type": "code",
   "execution_count": 54,
   "metadata": {},
   "outputs": [],
   "source": [
    "q.send_keys('英雄聯盟')"
   ]
  },
  {
   "cell_type": "code",
   "execution_count": 55,
   "metadata": {},
   "outputs": [],
   "source": [
    "from selenium.webdriver.common.keys import Keys\n",
    "q.send_keys(Keys.RETURN)"
   ]
  },
  {
   "cell_type": "code",
   "execution_count": 30,
   "metadata": {},
   "outputs": [],
   "source": [
    "from bs4 import BeautifulSoup"
   ]
  },
  {
   "cell_type": "code",
   "execution_count": 56,
   "metadata": {},
   "outputs": [],
   "source": [
    "soup=BeautifulSoup(driver.page_source,'lxml')"
   ]
  },
  {
   "cell_type": "code",
   "execution_count": 57,
   "metadata": {},
   "outputs": [
    {
     "name": "stdout",
     "output_type": "stream",
     "text": [
      "《英雄聯盟》\n",
      "英雄聯盟- Home | Facebook\n",
      "英雄联盟- 维基百科，自由的百科全书\n",
      "Garena 英雄聯盟 - YouTube\n",
      "《英雄聯盟》公開新英雄鋼鐵少女「銳兒」 冷酷強悍的坦克型 ...\n"
     ]
    }
   ],
   "source": [
    "for ele in soup.select('#rso h3.LC20lb.DKV0Md span'):\n",
    "    print(ele.text)"
   ]
  },
  {
   "cell_type": "code",
   "execution_count": 58,
   "metadata": {},
   "outputs": [],
   "source": [
    "import time"
   ]
  },
  {
   "cell_type": "code",
   "execution_count": 60,
   "metadata": {},
   "outputs": [
    {
     "name": "stdout",
     "output_type": "stream",
     "text": [
      "英雄联盟维基| Fandom\n",
      "英雄聯盟 - Garena 客服中心\n",
      "英雄联盟英雄与玩家数据及排名- LeagueOfGraphs\n",
      "《英雄聯盟：激鬥峽谷》 - Google Play 應用程式\n",
      "《英雄聯盟》Rekkles正式加盟G2！Jankos：沒差啊我一樣是 ...\n",
      "英雄联盟直播_lol直播_英雄联盟直播视频解说攻略_斗鱼直播\n",
      "LOL戰績網\n",
      "lol英雄聯盟- 官方合作資料攻略站- 開心遊戲網HehaGame\n",
      "英雄聯盟 - GG Esports\n",
      "英雄聯盟首頁 - 上報UP Media\n",
      "37萬人追蹤！英雄聯盟新角色「瑟菈紛」有自己的IG、Twitter ...\n",
      "英雄聯盟：起源| Netflix\n",
      "英雄聯盟lol-代打，下單馬上打，100%安全保障-8591寶物交易網\n",
      "TOP - 英雄聯盟各路介紹 - Google Sites\n",
      "《符文大地傳說》\n",
      "路易威登X《英雄聯盟》 | LOUIS VUITTON®\n",
      "英雄联盟的微博_微博 - Weibo\n",
      "Spotify 與Riot Games 跨界組隊，打造《英雄聯盟》音樂專區及 ...\n",
      "英雄联盟 - 玩加电竞\n",
      "正版英雄聯盟符文之地的故事英雄聯盟官方設定集 ... - 露天拍賣\n",
      "臺中市政府全球資訊網-台中首屆市長盃英雄聯盟錦標賽即日起 ...\n",
      "《英雄聯盟》紀錄片登上Netflix，免費遊戲如何在10年內成為 ...\n",
      "英雄聯盟明星賽》星光熠熠！越南VCS代表名單出爐 - 奇摩新聞\n",
      "英雄联盟的个人空间- 哔哩哔哩( ゜- ゜)つロ乾杯~ Bilibili\n",
      "OP.GG: 英雄聯盟 Stats, 英雄, Database, Guide\n",
      "LOL英雄聯盟常用英文術語-League of Legends's English ...\n",
      "英雄聯盟板 | Dcard\n",
      "英雄聯盟#SGe (中文(臺灣)) - Gartic.io\n",
      "LoL 英雄聯盟遊戲配樂選輯- KKBOX\n",
      "英雄聯盟》泱泱大國觀眾氣度？ 冠軍賽介紹敵隊時沉默引熱議 ...\n"
     ]
    }
   ],
   "source": [
    "for p in range(3):\n",
    "    driver.find_element_by_link_text('下一頁').click()\n",
    "    soup=BeautifulSoup(driver.page_source,'lxml')\n",
    "    for ele in soup.select('#rso h3.LC20lb.DKV0Md span'):\n",
    "        print(ele.text)\n",
    "    time.sleep(1)"
   ]
  },
  {
   "cell_type": "code",
   "execution_count": 61,
   "metadata": {},
   "outputs": [],
   "source": [
    "driver.close()"
   ]
  },
  {
   "cell_type": "code",
   "execution_count": null,
   "metadata": {},
   "outputs": [],
   "source": []
  }
 ],
 "metadata": {
  "kernelspec": {
   "display_name": "Python 3",
   "language": "python",
   "name": "python3"
  },
  "language_info": {
   "codemirror_mode": {
    "name": "ipython",
    "version": 3
   },
   "file_extension": ".py",
   "mimetype": "text/x-python",
   "name": "python",
   "nbconvert_exporter": "python",
   "pygments_lexer": "ipython3",
   "version": "3.8.3"
  }
 },
 "nbformat": 4,
 "nbformat_minor": 4
}
