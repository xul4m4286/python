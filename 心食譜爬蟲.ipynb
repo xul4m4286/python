{
 "cells": [
  {
   "cell_type": "code",
   "execution_count": 42,
   "metadata": {},
   "outputs": [],
   "source": [
    "import requests\n",
    "from bs4 import BeautifulSoup"
   ]
  },
  {
   "cell_type": "code",
   "execution_count": 52,
   "metadata": {},
   "outputs": [],
   "source": [
    "url='https://www.xinshipu.com/zuofa/49391'\n",
    "headers={'User-Agent':'Mozilla/5.0 (Windows NT 10.0; Win64; x64) AppleWebKit/537.36 (KHTML, like Gecko) Chrome/86.0.4240.198 Safari/537.36'}\n",
    "res=requests.get(url,headers=headers)"
   ]
  },
  {
   "cell_type": "code",
   "execution_count": 106,
   "metadata": {},
   "outputs": [],
   "source": [
    "soup=BeautifulSoup(res.text,\"html.parser\")"
   ]
  },
  {
   "cell_type": "code",
   "execution_count": 105,
   "metadata": {},
   "outputs": [],
   "source": [
    "reup=soup.select('.re-up')[0]"
   ]
  },
  {
   "cell_type": "code",
   "execution_count": 104,
   "metadata": {},
   "outputs": [
    {
     "name": "stdout",
     "output_type": "stream",
     "text": [
      "散寿司\n",
      "4.6分\n",
      "7位评价\n",
      "食谱号 49391\n",
      "阅读 23853次\n",
      "收藏 5次\n"
     ]
    }
   ],
   "source": [
    "print(reup.select('.font18.no-overflow')[0].text)\n",
    "print(reup.select('.font16.ml10.col')[0].text)\n",
    "print(reup.select('.font16.ml10.col')[1].text)\n",
    "print('食谱号',reup.select('.cg2.mt12 span:nth-of-type(2)')[0].text)\n",
    "print('阅读',reup.select('.cg2.mt12 span:nth-of-type(4)')[0].text)\n",
    "print('收藏',reup.select('.cg2.mt12 span:nth-of-type(6)')[0].text)"
   ]
  }
 ],
 "metadata": {
  "kernelspec": {
   "display_name": "Python 3",
   "language": "python",
   "name": "python3"
  },
  "language_info": {
   "codemirror_mode": {
    "name": "ipython",
    "version": 3
   },
   "file_extension": ".py",
   "mimetype": "text/x-python",
   "name": "python",
   "nbconvert_exporter": "python",
   "pygments_lexer": "ipython3",
   "version": "3.8.3"
  }
 },
 "nbformat": 4,
 "nbformat_minor": 4
}
