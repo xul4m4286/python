{
 "cells": [
  {
   "cell_type": "code",
   "execution_count": 1,
   "metadata": {},
   "outputs": [],
   "source": [
    "from selenium import webdriver\n",
    "driver = webdriver.Chrome('D:\\chromedriver_win32\\chromedriver.exe')\n",
    "driver.get('')"
   ]
  },
  {
   "cell_type": "code",
   "execution_count": 5,
   "metadata": {},
   "outputs": [],
   "source": [
    "# driver.find_element_by_id('TheImg')\n",
    "# driver.page_source\n",
    "from bs4 import BeautifulSoup\n",
    "soup=BeautifulSoup(driver.page_source,'lxml')"
   ]
  },
  {
   "cell_type": "code",
   "execution_count": 31,
   "metadata": {},
   "outputs": [],
   "source": [
    "import requests\n",
    "res=requests.get(imgurl)\n",
    "with open('test.jpg','wb') as f:\n",
    "    f.write(res.content)"
   ]
  },
  {
   "cell_type": "code",
   "execution_count": 18,
   "metadata": {},
   "outputs": [],
   "source": [
    "totalpage = int(soup.select_one('#pagenum').text.split('/')[1].split('頁')[0])"
   ]
  },
  {
   "cell_type": "code",
   "execution_count": 34,
   "metadata": {},
   "outputs": [],
   "source": [
    "import time\n",
    "pageurl=''\n",
    "for page in range(totalpage):\n",
    "    driver.get(pageurl.format(page+1))\n",
    "    soup=BeautifulSoup(driver.page_source,'lxml')\n",
    "    imgurl='https:'+soup.select_one('#TheImg').get('src')\n",
    "    res=requests.get(imgurl)\n",
    "    with open('1041-{}.jpg'.format(page+1),'wb') as f:\n",
    "        f.write(res.content)\n",
    "    time.sleep(2)"
   ]
  },
  {
   "cell_type": "code",
   "execution_count": null,
   "metadata": {},
   "outputs": [],
   "source": []
  }
 ],
 "metadata": {
  "kernelspec": {
   "display_name": "Python 3",
   "language": "python",
   "name": "python3"
  },
  "language_info": {
   "codemirror_mode": {
    "name": "ipython",
    "version": 3
   },
   "file_extension": ".py",
   "mimetype": "text/x-python",
   "name": "python",
   "nbconvert_exporter": "python",
   "pygments_lexer": "ipython3",
   "version": "3.8.3"
  }
 },
 "nbformat": 4,
 "nbformat_minor": 4
}
